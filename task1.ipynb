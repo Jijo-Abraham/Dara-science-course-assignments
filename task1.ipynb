{
 "cells": [
  {
   "cell_type": "markdown",
   "id": "0c2bc02d-98f7-4c7f-b58d-81108e42d6f1",
   "metadata": {},
   "source": [
    "### Q1. Create a function which will take a list as an argument and return the product of all the numbers\n",
    "### after creating a flat list.\n",
    "### Use the below-given list as an argument for your function.\n",
    "### list1 = [1,2,3,4, [44,55,66, True], False, (34,56,78,89,34), {1,2,3,3,2,1}, {1:34, \"key2\": [55, 67, 78, 89], 4: (45,\n",
    "### 22, 61, 34)}, [56, 'data science'], 'Machine Learning']\n",
    "### Note: you must extract numeric keys and values of the dictionary also."
   ]
  },
  {
   "cell_type": "code",
   "execution_count": 1,
   "id": "673c230d-298a-46b5-9d8d-f9ce50556724",
   "metadata": {},
   "outputs": [],
   "source": [
    "list1 = [1,2,3,4, [44,55,66, True], False, (34,56,78,89,34), {1,2,3,3,2,1}, {1:34, \"key2\": [55, 67, 78, 89], 4: (45,\n",
    "22, 61, 34)}, [56, 'data science'], 'Machine Learning']"
   ]
  },
  {
   "cell_type": "code",
   "execution_count": 2,
   "id": "8b312cc6-4808-48c4-9bf3-118f5bd1ca41",
   "metadata": {},
   "outputs": [],
   "source": [
    "def fuc(l):\n",
    "    n=1\n",
    "    for i in l:\n",
    "        if type(i)==int:\n",
    "            n=n *i\n",
    "        if type(i)==list or type(i)==tuple or type(i)==set:\n",
    "            for j in i:\n",
    "                if type(j)==int:\n",
    "                    n=n*j\n",
    "        if type(i)==dict:\n",
    "            for j in i.keys():\n",
    "                if type(j)==int:\n",
    "                    n = n*j\n",
    "            for j in i.values():\n",
    "                if type(j)==int:\n",
    "                     n = n*j\n",
    "                elif type(j)==list:\n",
    "                    for k in j:\n",
    "                        n = n*k\n",
    "                elif type(j)==tuple:\n",
    "                    for k in j:\n",
    "                        n = n*k\n",
    "       \n",
    "    return n"
   ]
  },
  {
   "cell_type": "code",
   "execution_count": 3,
   "id": "080596da-8040-4328-b7de-26bd7ae1b9f5",
   "metadata": {},
   "outputs": [
    {
     "data": {
      "text/plain": [
       "4134711838987085478833841242112000"
      ]
     },
     "execution_count": 3,
     "metadata": {},
     "output_type": "execute_result"
    }
   ],
   "source": [
    "fuc(list1)"
   ]
  },
  {
   "cell_type": "markdown",
   "id": "263ce82b-0ab7-4226-b8c4-03c3bcb9c8bd",
   "metadata": {},
   "source": [
    "### Q2. Write a python program for encrypting a message sent to you by your friend. The logic of encryption\r\n",
    "should be such that, for a the output should be z. For b, the output should be y. For c, the output shoul \r\n",
    "be x respectively. Also, the whitespac\n",
    "e should be replaced with a dollar sign. Keep the punctuati n\r\n",
    "marks unchang d.\r\n",
    "Input Sentence: I want to become a Data Scient st.\r\n",
    "Encrypt the a\n",
    "bove input sentence using the program you just cre ted.\r\n",
    "Note: Convert the given input sentence into lowercase before encrypting. The final output \n",
    "ho ld be\r\n",
    "lowercase."
   ]
  },
  {
   "cell_type": "code",
   "execution_count": 4,
   "id": "aafdada2-1b87-4c2c-b747-6aa144314914",
   "metadata": {},
   "outputs": [],
   "source": [
    "punctuation_mark = ['.', ',', '?', '!', ';', ':', \"'\", '\"', '(', ')', '-', '...']\n",
    "alphabets = ['a', 'b', 'c', 'd', 'e', 'f', 'g', 'h', 'i', 'j', 'k', 'l', 'm', 'n', 'o', 'p', 'q', 'r', 's', 't', 'u', 'v', 'w', 'x', 'y', 'z']"
   ]
  },
  {
   "cell_type": "code",
   "execution_count": 7,
   "id": "6222a3a1-6b8f-4937-99f8-1ad3b9f783e8",
   "metadata": {},
   "outputs": [
    {
     "name": "stdout",
     "output_type": "stream",
     "text": [
      "r$dzmg$gl$yvxlnv$z$wzgz$hxrvmgrhg."
     ]
    }
   ],
   "source": [
    "m=\"I want to become a Data Scientist.\"\n",
    "def fun(s):\n",
    "    d=s.lower()\n",
    "    for i in d:\n",
    "        if i in alphabets:\n",
    "            for j in range(len(alphabets)):\n",
    "                if alphabets[j]==i:\n",
    "                    print(alphabets[len(alphabets)-1-j],end='')\n",
    "        if i == ' ':\n",
    "            print('$',end='')\n",
    "        if i in punctuation_mark:\n",
    "            print(i,end='')\n",
    "fun(m)"
   ]
  },
  {
   "cell_type": "code",
   "execution_count": null,
   "id": "9724bae1-c5c0-4c80-9979-1408ee61f1b4",
   "metadata": {},
   "outputs": [],
   "source": []
  }
 ],
 "metadata": {
  "kernelspec": {
   "display_name": "Python 3 (ipykernel)",
   "language": "python",
   "name": "python3"
  },
  "language_info": {
   "codemirror_mode": {
    "name": "ipython",
    "version": 3
   },
   "file_extension": ".py",
   "mimetype": "text/x-python",
   "name": "python",
   "nbconvert_exporter": "python",
   "pygments_lexer": "ipython3",
   "version": "3.12.1"
  }
 },
 "nbformat": 4,
 "nbformat_minor": 5
}
