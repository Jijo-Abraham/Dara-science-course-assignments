{
 "cells": [
  {
   "cell_type": "markdown",
   "id": "efe80500-af43-42f6-872c-b926ca8779bc",
   "metadata": {},
   "source": [
    "### Q1. What are the characteristics of the tuples? Is tuple immutable?"
   ]
  },
  {
   "cell_type": "markdown",
   "id": "5c8f26c1-de06-4116-b268-270b95d2980b",
   "metadata": {},
   "source": [
    "#### Tuples are \n",
    "#### 1.immutable : once they are created , then their elements can't be changed\n",
    "#### 2.ordered : Tuple has order of elements like lists\n",
    "#### 3.Heterogeneous elements : tuple can contain elements of different datatypes.\n",
    "#### 4.parentheses : Tupes are defined using parentheses '()'\n",
    "#### 5.comma separation : the elements are separated by commas.\n",
    "#### 6.single-element tuple :if you want to create a single-element tuple, you need to include a trailing comma, as without it, Python will interpret the expression as a single value within parentheses. for example , a = (8,) is a tuple.\n",
    "\n",
    "### yes , tuples are immutable .once created , tuple can't be changed or modified"
   ]
  },
  {
   "cell_type": "code",
   "execution_count": null,
   "id": "90e6f3b6-75ce-41f0-9e90-dcbb4b750e0c",
   "metadata": {},
   "outputs": [],
   "source": []
  },
  {
   "cell_type": "markdown",
   "id": "4b1eb7e5-bac2-4b43-84ad-3cd1a7cd711e",
   "metadata": {},
   "source": [
    "###  Q2. What are the two tuple methods in python? Give an example of each method. Give a reason whytuples have only two in-built methods as compared to Lists.."
   ]
  },
  {
   "cell_type": "markdown",
   "id": "430bc9f9-e18e-4b86-b9b5-4d8cf7b56458",
   "metadata": {},
   "source": [
    "### The two methods are \n",
    "#### 1.count() : The method return the number of occurrences of a specified value in the tuple."
   ]
  },
  {
   "cell_type": "code",
   "execution_count": 8,
   "id": "74683b9c-daae-42d8-b1ed-f6b1c9eb56d6",
   "metadata": {},
   "outputs": [
    {
     "name": "stdout",
     "output_type": "stream",
     "text": [
      "3\n"
     ]
    }
   ],
   "source": [
    "tuple_a = (1,1,2,1)\n",
    "print(tuple_a.count(1))"
   ]
  },
  {
   "cell_type": "markdown",
   "id": "7fbc3484-0756-47c5-8254-487c35f93e41",
   "metadata": {},
   "source": [
    "#### 2.index() : This method returns the index of the first occurrence of a specified value in the tuple."
   ]
  },
  {
   "cell_type": "code",
   "execution_count": 11,
   "id": "97dd6296-8a10-4618-ad11-ac31e0b32865",
   "metadata": {},
   "outputs": [
    {
     "name": "stdout",
     "output_type": "stream",
     "text": [
      "1\n"
     ]
    }
   ],
   "source": [
    "tuple_b = (3,4,2)\n",
    "print(tuple_b.index(4))"
   ]
  },
  {
   "cell_type": "markdown",
   "id": "b7b26084-2ff4-4e16-b6c6-40ffbf5b1ddf",
   "metadata": {},
   "source": [
    "#### Tuples have fewer built-in methods compared to lists primarily because of their immutability. The immutability of tuples means that once a tuple is created, its elements cannot be modified or changed."
   ]
  },
  {
   "cell_type": "code",
   "execution_count": null,
   "id": "34aecda2-3cca-4a63-ae61-d381ed30ff51",
   "metadata": {},
   "outputs": [],
   "source": []
  },
  {
   "cell_type": "markdown",
   "id": "a9cbff44-3d52-4c50-a055-e271c5969ada",
   "metadata": {},
   "source": [
    "### Q3. Which collection datatypes in python do not allow duplicate items? Write a code using a set to remove duplicates from the given list.List = [1, 1, 1, 2, 1, 3, 1, 4, 2, 1, 2, 2, 2, 3, 2, 4, 3, 1, 3, 2, 3, 3, 3, 4, 4, 1, 4, 2, 4, 3, 4, 4]"
   ]
  },
  {
   "cell_type": "markdown",
   "id": "52bffb1d-7e52-4f6a-94f5-22773badf7ef",
   "metadata": {},
   "source": [
    "#### In Python, the collection datatype that does not allow duplicate items is a set. A set is an unordered collection of unique elements.To remove duplicates from a given list, you can convert the list to a set, which automatically eliminates duplicate elements, and then convert it back to a list if needed."
   ]
  },
  {
   "cell_type": "code",
   "execution_count": 16,
   "id": "9751132d-3a52-499c-97db-e3d740e6612a",
   "metadata": {},
   "outputs": [
    {
     "data": {
      "text/plain": [
       "{1, 2, 3, 4}"
      ]
     },
     "execution_count": 16,
     "metadata": {},
     "output_type": "execute_result"
    }
   ],
   "source": [
    "List = [1, 1, 1, 2, 1, 3, 1, 4, 2, 1, 2, 2, 2, 3, 2, 4, 3, 1, 3, 2, 3, 3, 3, 4, 4, 1, 4, 2, 4, 3, 4, 4]\n",
    "\n",
    "new = set(List)\n",
    "new\n"
   ]
  },
  {
   "cell_type": "code",
   "execution_count": null,
   "id": "de24d347-4590-4bc9-ad15-082103cfad64",
   "metadata": {},
   "outputs": [],
   "source": []
  },
  {
   "cell_type": "markdown",
   "id": "26eef963-363f-468c-8148-a933f09a6b2c",
   "metadata": {},
   "source": [
    "#### Q4. Explain the difference between the union() and update() methods for a set. Give an example of each method.."
   ]
  },
  {
   "cell_type": "markdown",
   "id": "ab57119e-dddb-4bbc-882d-262e6516a5a4",
   "metadata": {},
   "source": [
    "#### union() : creates a new set containing unique elements from all involved sets, leaving the original sets unchanged"
   ]
  },
  {
   "cell_type": "code",
   "execution_count": 18,
   "id": "4dedf6d7-aa9a-4f79-b187-cd0b82bd0118",
   "metadata": {},
   "outputs": [
    {
     "data": {
      "text/plain": [
       "{1, 2, 3, 4}"
      ]
     },
     "execution_count": 18,
     "metadata": {},
     "output_type": "execute_result"
    }
   ],
   "source": [
    "s1={1,2}\n",
    "s2={2,3}\n",
    "s3={3,4}\n",
    "s1.union(s2,s3)"
   ]
  },
  {
   "cell_type": "markdown",
   "id": "e4a63d34-608d-458c-a659-874a15aa820e",
   "metadata": {},
   "source": [
    "#### update() : modifies the set it is called on by adding elements from other sets."
   ]
  },
  {
   "cell_type": "code",
   "execution_count": 19,
   "id": "54c9c27e-01f1-493e-8844-e49d085931b2",
   "metadata": {},
   "outputs": [],
   "source": [
    "s4={1,2}\n",
    "s5={2,3}\n",
    "s4.update(s5)"
   ]
  },
  {
   "cell_type": "code",
   "execution_count": 20,
   "id": "829b1f00-47f0-49cc-97bc-6eeeabc5b35d",
   "metadata": {},
   "outputs": [
    {
     "data": {
      "text/plain": [
       "{1, 2, 3}"
      ]
     },
     "execution_count": 20,
     "metadata": {},
     "output_type": "execute_result"
    }
   ],
   "source": [
    "s4"
   ]
  },
  {
   "cell_type": "code",
   "execution_count": null,
   "id": "b2ce8afe-478e-43e9-96d6-eb3f865fa684",
   "metadata": {},
   "outputs": [],
   "source": []
  },
  {
   "cell_type": "markdown",
   "id": "1b787984-d30c-4ff3-855c-4307eeb10830",
   "metadata": {},
   "source": [
    "### Q5. What is a dictionary? Give an example. Also, state whether a dictionary is ordered or unordered."
   ]
  },
  {
   "cell_type": "markdown",
   "id": "421b68ec-7d19-463f-b393-ccdbe737fd04",
   "metadata": {},
   "source": [
    "#### A dictionary in Python is a collection of key-value pairs, where each key must be unique. It is a mutable and versatile data type that allows you to store and retrieve values based on a associated key. Dictionaries are defined using curly braces {} and colons : to separate keys and values."
   ]
  },
  {
   "cell_type": "code",
   "execution_count": 23,
   "id": "6cf0b5e7-51cd-4f68-8b13-d12d5ad48735",
   "metadata": {},
   "outputs": [
    {
     "data": {
      "text/plain": [
       "{'name': 'Jijo Abraham', 'age': 22}"
      ]
     },
     "execution_count": 23,
     "metadata": {},
     "output_type": "execute_result"
    }
   ],
   "source": [
    "dict = {'name':\"Jijo Abraham\",'age': 22}\n",
    "dict"
   ]
  },
  {
   "cell_type": "markdown",
   "id": "7538d1c9-0ebd-4055-bdd4-7c0260139968",
   "metadata": {},
   "source": [
    "#### dictionary is ordered.\"order\" refers to the preservation of the order in which key-value pairs are added to the dictionary. This means that when you iterate over the items of a dictionary, the order in which the items are returned is the same as the order in which they were added to the dictionary. "
   ]
  },
  {
   "cell_type": "code",
   "execution_count": null,
   "id": "30a35d20-5c9e-4df9-a04d-1a0fddaa0f35",
   "metadata": {},
   "outputs": [],
   "source": []
  },
  {
   "cell_type": "markdown",
   "id": "2890002e-8918-42cc-8681-b6d6466b5854",
   "metadata": {},
   "source": [
    "### Q6. Can we create a nested dictionary? If so, please give an example by creating a simple one-level nested dictionary.."
   ]
  },
  {
   "cell_type": "markdown",
   "id": "906c2163-b46c-400d-9030-380fdef97c23",
   "metadata": {},
   "source": [
    "#### Yes, you can create a nested dictionary in Python. A nested dictionary is a dictionary that contains one or more dictionaries as values. Each inner dictionary represents a new level of nesting. "
   ]
  },
  {
   "cell_type": "code",
   "execution_count": 24,
   "id": "8c55b140-e042-4956-8d8d-58ad121b906a",
   "metadata": {},
   "outputs": [],
   "source": [
    "n_dict = {'person1' : {'name':'Jijo','age':22} , 'person2':{'name':'Jiju','age':20}}"
   ]
  },
  {
   "cell_type": "code",
   "execution_count": 27,
   "id": "f0703287-f403-47e1-b8b2-aa6c74da6027",
   "metadata": {},
   "outputs": [
    {
     "name": "stdout",
     "output_type": "stream",
     "text": [
      "Person1 name is: Jijo\n"
     ]
    }
   ],
   "source": [
    "print(\"Person1 name is:\",n_dict['person1']['name'])"
   ]
  },
  {
   "cell_type": "code",
   "execution_count": null,
   "id": "dfada8c9-23be-4b20-9e84-41a21997850f",
   "metadata": {},
   "outputs": [],
   "source": []
  },
  {
   "cell_type": "markdown",
   "id": "049f0d3f-072f-4964-94c7-5121444340e6",
   "metadata": {},
   "source": [
    "### Q7. Using setdefault() method, create key named topics in the given dictionary and also add the value ofthe key as this list ['Python', 'Machine Learning’, 'Deep Learning'] dict1 = {'language' : 'Python', 'course': 'Data Science Masters'}'}"
   ]
  },
  {
   "cell_type": "code",
   "execution_count": 28,
   "id": "514ac9f9-70a9-4625-af43-238ed002c656",
   "metadata": {},
   "outputs": [
    {
     "data": {
      "text/plain": [
       "'Deep Learning'"
      ]
     },
     "execution_count": 28,
     "metadata": {},
     "output_type": "execute_result"
    }
   ],
   "source": [
    "dict1 = {'language' : 'Python', 'course': 'Data Science Masters'}\n",
    "dict1.setdefault('topics','Deep Learning')"
   ]
  },
  {
   "cell_type": "code",
   "execution_count": 29,
   "id": "49c3945b-2596-450e-b4d0-6f031ddd4316",
   "metadata": {},
   "outputs": [
    {
     "data": {
      "text/plain": [
       "{'language': 'Python',\n",
       " 'course': 'Data Science Masters',\n",
       " 'topics': 'Deep Learning'}"
      ]
     },
     "execution_count": 29,
     "metadata": {},
     "output_type": "execute_result"
    }
   ],
   "source": [
    "dict1"
   ]
  },
  {
   "cell_type": "code",
   "execution_count": null,
   "id": "22b34b2b-b068-49db-a7f1-0e59764c7da7",
   "metadata": {},
   "outputs": [],
   "source": []
  },
  {
   "cell_type": "markdown",
   "id": "16396538-74e3-4c11-8919-4a8a66845b0c",
   "metadata": {},
   "source": [
    "### Q8. What are the three view objects in dictionaries? Use the three in-built methods in python to display these three view objects for the given dictionary. dict1 = {'Sport': 'Cricket' , 'Teams': ['India', 'Australia', 'England', 'South Africa', 'Sri Lanka', 'New Zealand']}"
   ]
  },
  {
   "cell_type": "markdown",
   "id": "47d494ad-7156-4118-8261-821b21fe0d14",
   "metadata": {},
   "source": [
    "#### In Python dictionaries, there are three view objects that provide a view on the dictionary's keys, values, and key-value pairs. These view objects are:\r\n",
    "#### dict_keys: A view of all the keys in the dictionary.\n",
    "#### dict_values: A view of all the values in the dictionary.\n",
    "#### dict_items: A view of all key-value pairs in the dictionary.ary."
   ]
  },
  {
   "cell_type": "code",
   "execution_count": 6,
   "id": "c52596df-aacc-47dc-8316-a0e6d4ac2f1c",
   "metadata": {},
   "outputs": [
    {
     "name": "stdout",
     "output_type": "stream",
     "text": [
      "The keys are : dict_keys(['Sport', 'Teams'])\n",
      "\n",
      "The values are : dict_values(['Cricket', ['India', 'Australia', 'England', 'South Africa', 'Sri Lanka', 'New Zealand']])\n",
      "\n",
      "The key_value pair are : dict_items([('Sport', 'Cricket'), ('Teams', ['India', 'Australia', 'England', 'South Africa', 'Sri Lanka', 'New Zealand'])])\n"
     ]
    }
   ],
   "source": [
    "dict1 = {'Sport': 'Cricket' , 'Teams': ['India', 'Australia', 'England', 'South Africa', 'Sri Lanka', 'New Zealand']}\n",
    "keys = dict1.keys()\n",
    "values = dict1.values()\n",
    "items = dict1.items()\n",
    "print(\"The keys are :\",keys)\n",
    "print(\"\\nThe values are :\",values)\n",
    "print(\"\\nThe key_value pair are :\",items)"
   ]
  },
  {
   "cell_type": "code",
   "execution_count": null,
   "id": "76917780-08c1-4fcc-b976-1229cd94d909",
   "metadata": {},
   "outputs": [],
   "source": []
  },
  {
   "cell_type": "code",
   "execution_count": null,
   "id": "6b497ecc-d26d-438a-91eb-8316cb28e68e",
   "metadata": {},
   "outputs": [],
   "source": []
  },
  {
   "cell_type": "code",
   "execution_count": null,
   "id": "f9d291cb-b316-435e-a972-fad7d0db85df",
   "metadata": {},
   "outputs": [],
   "source": []
  }
 ],
 "metadata": {
  "kernelspec": {
   "display_name": "Python 3 (ipykernel)",
   "language": "python",
   "name": "python3"
  },
  "language_info": {
   "codemirror_mode": {
    "name": "ipython",
    "version": 3
   },
   "file_extension": ".py",
   "mimetype": "text/x-python",
   "name": "python",
   "nbconvert_exporter": "python",
   "pygments_lexer": "ipython3",
   "version": "3.12.1"
  }
 },
 "nbformat": 4,
 "nbformat_minor": 5
}
