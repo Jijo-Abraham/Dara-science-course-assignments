{
 "cells": [
  {
   "cell_type": "markdown",
   "id": "e6eba390-1441-4716-9cfb-1e7ba78d487b",
   "metadata": {},
   "source": [
    "# 1.What is multithreading in python? hy is it used? Name the module used to handle threads in python"
   ]
  },
  {
   "cell_type": "markdown",
   "id": "8b46f759-f8f0-4e4a-b9bf-daa964889813",
   "metadata": {},
   "source": [
    "## Multithreading in Python refers to the concurrent execution of multiple threads (smaller units of a process) to improve the performance and efficiency of a program. It is used to perform multiple operations simultaneously, enhancing the speed of a program, especially when there are I/O-bound tasks. The module used to handle threads in Python is threading."
   ]
  },
  {
   "cell_type": "markdown",
   "id": "13b8d486-3bcc-4927-942d-0447150618b2",
   "metadata": {},
   "source": [
    "# 2. hy threading module used? rite the use of the following functions\r\n",
    "( activeCount\r\n",
    " currentThread\r\n",
    " enumerate)"
   ]
  },
  {
   "cell_type": "markdown",
   "id": "b9f61e4c-7253-4761-ba87-7a769832809a",
   "metadata": {},
   "source": [
    "## The threading module is used to create and manage threads in Python. It provides a way to run multiple threads concurrently, allowing a program to do multiple things at once.\n",
    "\n",
    "## activeCount: Returns the number of Thread objects currently alive.\n",
    "## currentThread: Returns the current Thread object, corresponding to the caller's thread of control.\n",
    "## enumerate: Returns a list of all Thread objects currently alive."
   ]
  },
  {
   "cell_type": "markdown",
   "id": "3dd4b583-ffde-4954-88d5-8949a63f6702",
   "metadata": {},
   "source": [
    "## 3. Explain the following functions\r\n",
    "( run\r\n",
    " start\r\n",
    " join\r\n",
    "' isAlive)"
   ]
  },
  {
   "cell_type": "markdown",
   "id": "6ec212df-3fc8-42b9-980c-519edf3f3113",
   "metadata": {},
   "source": [
    "## run: The run method is the entry point for a thread. It defines the behavior of the thread when it is started.\n",
    "## start: The start method begins the execution of the thread. It calls the run method internally.\n",
    "## join: The join method blocks the calling thread until the thread whose join method is called terminates.\n",
    "## isAlive: The isAlive method checks whether a thread is still executing.\n"
   ]
  },
  {
   "cell_type": "markdown",
   "id": "8fd05519-1906-426e-b8fc-942c7faba66a",
   "metadata": {},
   "source": [
    "# 4. rite a python program to create two threads. Thread one must print the list of squares and thread \n",
    "two must print the list of cubes"
   ]
  },
  {
   "cell_type": "code",
   "execution_count": 4,
   "id": "d0e64a91-d307-4189-951f-2bbd48a07b0b",
   "metadata": {},
   "outputs": [
    {
     "name": "stdout",
     "output_type": "stream",
     "text": [
      "Square of 1: 1Cube of 1: 1\n",
      "Cube of 2: 8\n",
      "Cube of 3: 27\n",
      "Cube of 4: 64\n",
      "Cube of 5: 125\n",
      "Cube of 6: 216\n",
      "Cube of 7: 343\n",
      "Cube of 8: 512\n",
      "Cube of 9: 729\n",
      "Cube of 10: 1000\n",
      "\n",
      "Square of 2: 4\n",
      "Square of 3: 9\n",
      "Square of 4: 16\n",
      "Square of 5: 25\n",
      "Square of 6: 36\n",
      "Square of 7: 49\n",
      "Square of 8: 64\n",
      "Square of 9: 81\n",
      "Square of 10: 100\n"
     ]
    }
   ],
   "source": [
    "import threading\n",
    "\n",
    "def print_squares():\n",
    "    for i in range(1, 11):\n",
    "        print(f\"Square of {i}: {i * i}\")\n",
    "\n",
    "def print_cubes():\n",
    "    for i in range(1, 11):\n",
    "        print(f\"Cube of {i}: {i * i * i}\")\n",
    "\n",
    "thread1 = threading.Thread(target=print_squares)\n",
    "thread2 = threading.Thread(target=print_cubes)\n",
    "\n",
    "thread1.start()\n",
    "thread2.start()\n",
    "\n",
    "thread1.join()\n",
    "thread2.join()\n"
   ]
  },
  {
   "cell_type": "markdown",
   "id": "ffc57033-574e-4007-89f8-d4a5b965a2c6",
   "metadata": {},
   "source": [
    "# 5. State advantages and disadvantages of multithreading"
   ]
  },
  {
   "cell_type": "markdown",
   "id": "1725ad4b-cdde-4fc5-986a-d5a69cfc62a5",
   "metadata": {},
   "source": [
    "# Advantages:\n",
    "\n",
    "## Efficient utilization of resources by concurrent execution.\n",
    "## Improved performance for I/O-bound and high-latency operations.\n",
    "## Enhanced responsiveness in user interfaces.\n",
    "\n",
    "# Disadvantages:\n",
    "\n",
    "## Complexity in program design and debugging.\n",
    "## Potential for race conditions and deadlocks.\n",
    "## Limited by the Global Interpreter Lock (GIL) in CPython, which can hinder performance improvements for CPU-bound tasks."
   ]
  },
  {
   "cell_type": "markdown",
   "id": "80176f5a-e78a-4de7-b858-ecd6843ff995",
   "metadata": {},
   "source": [
    "# 6.Explain deadlocks and race conditions."
   ]
  },
  {
   "cell_type": "markdown",
   "id": "d9bf01b0-c6bd-49b4-aab6-40105ecc17a5",
   "metadata": {},
   "source": [
    "## Deadlocks: A deadlock is a situation where two or more threads are blocked forever, waiting for each other to release resources. It usually occurs when multiple threads acquire locks in different orders and form a circular dependency.\n",
    "## Race Conditions: A race condition occurs when two or more threads access shared resources concurrently, and the outcome of the execution depends on the non-deterministic timing of the threads. This can lead to unpredictable and erroneous behavior."
   ]
  },
  {
   "cell_type": "code",
   "execution_count": null,
   "id": "0a594482-24ee-4667-8050-92d6f196b34d",
   "metadata": {},
   "outputs": [],
   "source": []
  }
 ],
 "metadata": {
  "kernelspec": {
   "display_name": "Python 3 (ipykernel)",
   "language": "python",
   "name": "python3"
  },
  "language_info": {
   "codemirror_mode": {
    "name": "ipython",
    "version": 3
   },
   "file_extension": ".py",
   "mimetype": "text/x-python",
   "name": "python",
   "nbconvert_exporter": "python",
   "pygments_lexer": "ipython3",
   "version": "3.12.1"
  }
 },
 "nbformat": 4,
 "nbformat_minor": 5
}
