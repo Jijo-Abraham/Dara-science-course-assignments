{
 "cells": [
  {
   "cell_type": "markdown",
   "id": "18859856-e745-46db-bf09-27caf3f19107",
   "metadata": {},
   "source": [
    "### 1.What is an Exception in python ? Write the difference between Exception and Syntax errors"
   ]
  },
  {
   "cell_type": "markdown",
   "id": "2bb16928-62ac-496d-b3f3-5d41d4ca18f4",
   "metadata": {},
   "source": [
    "#### In Python, an exception is an event that occurs during the execution of a program that disrupts the normal flow of the program's instructions. When a Python script encounters an exceptional condition (such as division by zero, accessing an index out of range, or trying to open a file that doesn't exist), it raises an exception. If the exception is not handled by the program, it typically terminates the program and displays an error message.\n",
    "\n",
    "#### Syntax errors, on the other hand, occur when the Python interpreter encounters code that violates the language's syntax rules. These errors usually happen before the program is executed because they prevent the interpreter from parsing the code correctly. Examples of syntax errors include missing parentheses, mismatched indentation, and using reserved keywords incorrectly."
   ]
  },
  {
   "cell_type": "markdown",
   "id": "999bf76b-9086-4912-a59d-e12647a77f8b",
   "metadata": {},
   "source": [
    "### 2.What happens when an exception is not handled?Explain with an example"
   ]
  },
  {
   "cell_type": "markdown",
   "id": "76839462-56a3-4a6f-9800-c6b9140e67b3",
   "metadata": {},
   "source": [
    "#### When an exception is not handled in a Python program, it means that the program doesn't know how to deal with the problem that occurred. Instead of fixing the problem or managing it, the program simply stops running.\n",
    "\n",
    "#### In the below example code, when main() calls divide(10, 0), it's like trying to divide something by zero, which isn't allowed in math. So Python raises an exception (a sort of alert saying something's wrong). Since the code doesn't know what to do with this problem, it just stops running and shows an error message. It doesn't continue with the other tasks or try to fix the issue; it just quits."
   ]
  },
  {
   "cell_type": "code",
   "execution_count": 1,
   "id": "f7d3ba59-c2db-4870-a429-19d731821926",
   "metadata": {},
   "outputs": [
    {
     "ename": "ZeroDivisionError",
     "evalue": "division by zero",
     "output_type": "error",
     "traceback": [
      "\u001b[1;31m---------------------------------------------------------------------------\u001b[0m",
      "\u001b[1;31mZeroDivisionError\u001b[0m                         Traceback (most recent call last)",
      "Cell \u001b[1;32mIn[1], line 9\u001b[0m\n\u001b[0;32m      6\u001b[0m     result \u001b[38;5;241m=\u001b[39m divide(\u001b[38;5;241m10\u001b[39m, \u001b[38;5;241m0\u001b[39m)  \u001b[38;5;66;03m# This will cause a problem because we can't divide by zero\u001b[39;00m\n\u001b[0;32m      7\u001b[0m     \u001b[38;5;28mprint\u001b[39m(\u001b[38;5;124m\"\u001b[39m\u001b[38;5;124mResult:\u001b[39m\u001b[38;5;124m\"\u001b[39m, result)\n\u001b[1;32m----> 9\u001b[0m \u001b[43mmain\u001b[49m\u001b[43m(\u001b[49m\u001b[43m)\u001b[49m\n\u001b[0;32m     11\u001b[0m \u001b[38;5;66;03m#In this code, when main() calls divide(10, 0), it's like trying to divide something by zero, which isn't allowed in math. So Python raises an exception (a sort of alert saying something's wrong). Since the code doesn't know what to do with this problem, it just stops running and shows an error message. It doesn't continue with the other tasks or try to fix the issue; it just quits.\u001b[39;00m\n",
      "Cell \u001b[1;32mIn[1], line 6\u001b[0m, in \u001b[0;36mmain\u001b[1;34m()\u001b[0m\n\u001b[0;32m      5\u001b[0m \u001b[38;5;28;01mdef\u001b[39;00m \u001b[38;5;21mmain\u001b[39m():\n\u001b[1;32m----> 6\u001b[0m     result \u001b[38;5;241m=\u001b[39m \u001b[43mdivide\u001b[49m\u001b[43m(\u001b[49m\u001b[38;5;241;43m10\u001b[39;49m\u001b[43m,\u001b[49m\u001b[43m \u001b[49m\u001b[38;5;241;43m0\u001b[39;49m\u001b[43m)\u001b[49m  \u001b[38;5;66;03m# This will cause a problem because we can't divide by zero\u001b[39;00m\n\u001b[0;32m      7\u001b[0m     \u001b[38;5;28mprint\u001b[39m(\u001b[38;5;124m\"\u001b[39m\u001b[38;5;124mResult:\u001b[39m\u001b[38;5;124m\"\u001b[39m, result)\n",
      "Cell \u001b[1;32mIn[1], line 2\u001b[0m, in \u001b[0;36mdivide\u001b[1;34m(x, y)\u001b[0m\n\u001b[0;32m      1\u001b[0m \u001b[38;5;28;01mdef\u001b[39;00m \u001b[38;5;21mdivide\u001b[39m(x, y):\n\u001b[1;32m----> 2\u001b[0m     \u001b[38;5;28;01mreturn\u001b[39;00m \u001b[43mx\u001b[49m\u001b[43m \u001b[49m\u001b[38;5;241;43m/\u001b[39;49m\u001b[43m \u001b[49m\u001b[43my\u001b[49m\n",
      "\u001b[1;31mZeroDivisionError\u001b[0m: division by zero"
     ]
    }
   ],
   "source": [
    "def divide(x, y):\n",
    "    return x / y\n",
    "\n",
    "# This function calls divide with some values\n",
    "def main():\n",
    "    result = divide(10, 0)  # This will cause a problem because we can't divide by zero\n",
    "    print(\"Result:\", result)\n",
    "    \n",
    "main()\n"
   ]
  },
  {
   "cell_type": "markdown",
   "id": "4b94d9ac-5c94-4a9d-8bac-568ddb82a9bd",
   "metadata": {},
   "source": [
    "### 3.Which Python statements are used to catch and handle exceptions? Explain with an example"
   ]
  },
  {
   "cell_type": "markdown",
   "id": "d867799f-288a-430f-95b6-83cd398ac157",
   "metadata": {},
   "source": [
    "#### In Python, the try statement is used to catch and handle exceptions. It allows you to specify a block of code that might raise an exception, and then define what actions to take if an exception occurs. The except clause is used to specify the type of exception to catch and the code to execute if that exception occurs. Additionally, the finally clause can be used to define cleanup actions that should always be performed, regardless of whether an exception occurred or not."
   ]
  },
  {
   "cell_type": "code",
   "execution_count": 2,
   "id": "7b31fcff-aaec-4518-98c5-5b99aac58291",
   "metadata": {},
   "outputs": [
    {
     "name": "stdout",
     "output_type": "stream",
     "text": [
      "Division result: 5.0\n",
      "This cleanup code always runs\n",
      "Error: Cannot divide by zero!\n",
      "This cleanup code always runs\n"
     ]
    }
   ],
   "source": [
    "def divide(x, y):\n",
    "    try:\n",
    "        result = x / y\n",
    "        print(\"Division result:\", result)\n",
    "    except ZeroDivisionError:\n",
    "        print(\"Error: Cannot divide by zero!\")\n",
    "    finally:\n",
    "        print(\"This cleanup code always runs\")\n",
    "\n",
    "# Example usage of the divide function\n",
    "divide(10, 2)  # Normal division\n",
    "divide(10, 0)  # Division by zero\n"
   ]
  },
  {
   "cell_type": "markdown",
   "id": "e9d862d1-1941-47d8-ba33-0f38deeaef4d",
   "metadata": {},
   "source": [
    "### 4.Explain with an example\n",
    "\n",
    "###  a.try and else\n",
    "###  b.finally\n",
    "###  c.raise"
   ]
  },
  {
   "cell_type": "markdown",
   "id": "04cccecb-33a6-4607-b50f-4d88a8ca82e3",
   "metadata": {},
   "source": [
    "#### a. try and else:\r\n",
    "#### \r\n",
    "The else block in a try statement is executed if no exception occurs. It allows you to specify code that should run only if the try block executes successfully, without raising any exceptions."
   ]
  },
  {
   "cell_type": "code",
   "execution_count": 3,
   "id": "7689fe6d-55d0-4e4e-9a21-97a6c703bd4b",
   "metadata": {},
   "outputs": [
    {
     "name": "stdout",
     "output_type": "stream",
     "text": [
      "Division result: 5.0\n",
      "Error: Cannot divide by zero!\n"
     ]
    }
   ],
   "source": [
    "def divide(x, y):\n",
    "    try:\n",
    "        result = x / y\n",
    "    except ZeroDivisionError:\n",
    "        print(\"Error: Cannot divide by zero!\")\n",
    "    else:\n",
    "        print(\"Division result:\", result)\n",
    "\n",
    "# Example usage of the divide function\n",
    "divide(10, 2)  # Normal division\n",
    "divide(10, 0)  # Division by zero\n"
   ]
  },
  {
   "cell_type": "markdown",
   "id": "c95e4561-b362-47ff-acd1-0c425d704c3d",
   "metadata": {},
   "source": [
    "#### b. finally:\r\n",
    "#### \r\n",
    "The finally block in a try statement is used to define cleanup actions that should always be performed, regardless of whether an exception occurred or not. This block is useful for releasing external resources or cleaning up after an operation."
   ]
  },
  {
   "cell_type": "code",
   "execution_count": 4,
   "id": "f50b00b1-9d63-4ba8-8870-93c4a3b60ee7",
   "metadata": {},
   "outputs": [
    {
     "name": "stdout",
     "output_type": "stream",
     "text": [
      "Division result: 5.0\n",
      "Cleanup code always runs\n",
      "Error: Cannot divide by zero!\n",
      "Cleanup code always runs\n"
     ]
    }
   ],
   "source": [
    "def divide(x, y):\n",
    "    try:\n",
    "        result = x / y\n",
    "        print(\"Division result:\", result)\n",
    "    except ZeroDivisionError:\n",
    "        print(\"Error: Cannot divide by zero!\")\n",
    "    finally:\n",
    "        print(\"Cleanup code always runs\")\n",
    "\n",
    "# Example usage of the divide function\n",
    "divide(10, 2)  # Normal division\n",
    "divide(10, 0)  # Division by zero\n"
   ]
  },
  {
   "cell_type": "markdown",
   "id": "04a97b61-9dba-45c2-b000-6a2f178f83bd",
   "metadata": {},
   "source": [
    "#### c. raise:\r\n",
    "#### \r\n",
    "The raise statement is used to manually raise an exception in Python. You can use it to signal that an error or exceptional condition has occurred in your code."
   ]
  },
  {
   "cell_type": "code",
   "execution_count": 5,
   "id": "9af50c8c-ff61-4fb1-98dc-e5ef1759d5a7",
   "metadata": {},
   "outputs": [
    {
     "name": "stdout",
     "output_type": "stream",
     "text": [
      "Error: Age cannot be negative\n"
     ]
    }
   ],
   "source": [
    "def validate_age(age):\n",
    "    if age < 0:\n",
    "        raise ValueError(\"Age cannot be negative\")\n",
    "    elif age < 18:\n",
    "        raise ValueError(\"Must be 18 or older\")\n",
    "    else:\n",
    "        print(\"Valid age\")\n",
    "\n",
    "# Example usage of the validate_age function\n",
    "try:\n",
    "    validate_age(-5)\n",
    "except ValueError as e:\n",
    "    print(\"Error:\", e)\n"
   ]
  },
  {
   "cell_type": "markdown",
   "id": "b141bf3b-7075-4287-a083-546b6b221d9d",
   "metadata": {},
   "source": [
    "### 5.What are custom exceptions in python ? why do we need custom exceptions ? Explain with an example"
   ]
  },
  {
   "cell_type": "markdown",
   "id": "fe533e7a-8897-4ddb-81ee-83374b5979c5",
   "metadata": {},
   "source": [
    "#### Custom exceptions in Python are user-defined exceptions that are created by inheriting from the built-in Exception class or one of its subclasses. These exceptions allow developers to define their own types of errors or exceptional conditions specific to their application or domain.\r\n",
    "#### \r\n",
    "We need custom exceptions in Python for several reasons:#### \r\n",
    "\r\n",
    "Clarity and Readability: Custom exceptions provide descriptive names for specific error conditions in your code, making it easier to understand and maintai#### n.\r\n",
    "\r\n",
    "Granular Error Handling: By defining custom exceptions, you can handle different types of errors in a more granular way, allowing you to respond appropriately to different exceptional conditi#### ons.\r\n",
    "\r\n",
    "Domain-specific Errors: Custom exceptions allow you to define errors that are specific to your application domain, reflecting the semantics of your problem domain more accur#### ately.\r\n",
    "\r\n",
    "Encapsulation: Custom exceptions help encapsulate error-handling logic within your application's code, separating it from the rest of the program's logic and improving modularity."
   ]
  },
  {
   "cell_type": "code",
   "execution_count": 6,
   "id": "fcc173f9-e1c4-4889-a5f2-c337809c4b49",
   "metadata": {},
   "outputs": [
    {
     "name": "stdout",
     "output_type": "stream",
     "text": [
      "Error: Insufficient balance to withdraw 150 dollars\n"
     ]
    }
   ],
   "source": [
    "# Define a custom exception by inheriting from the base Exception class\n",
    "class InsufficientBalanceError(Exception):\n",
    "    pass\n",
    "\n",
    "# Define a simple bank account class\n",
    "class BankAccount:\n",
    "    def __init__(self, balance):\n",
    "        self.balance = balance\n",
    "\n",
    "    def withdraw(self, amount):\n",
    "        if amount > self.balance:\n",
    "            # Raise a custom exception if the withdrawal amount exceeds the balance\n",
    "            raise InsufficientBalanceError(\"Insufficient balance to withdraw {} dollars\".format(amount))\n",
    "        else:\n",
    "            self.balance -= amount\n",
    "            print(\"Withdrawal successful. Remaining balance:\", self.balance)\n",
    "\n",
    "# Example usage of the BankAccount class and custom exception\n",
    "try:\n",
    "    account = BankAccount(100)\n",
    "    account.withdraw(150)\n",
    "except InsufficientBalanceError as e:\n",
    "    print(\"Error:\", e)\n"
   ]
  },
  {
   "cell_type": "markdown",
   "id": "fbb5b519-3fc8-49bc-8c90-6f82f4b09f8d",
   "metadata": {},
   "source": [
    "### 6.Create a custom exception class . Use this class to handle an exception."
   ]
  },
  {
   "cell_type": "code",
   "execution_count": 8,
   "id": "611aae8b-e933-4cd8-bd81-6bc8cdbc0794",
   "metadata": {},
   "outputs": [
    {
     "name": "stdout",
     "output_type": "stream",
     "text": [
      "Custom Exception: Invalid data type. Expected integer.\n"
     ]
    }
   ],
   "source": [
    "# Define a custom exception class by inheriting from the base Exception class\n",
    "class CustomException(Exception):\n",
    "    def __init__(self, message):\n",
    "        super().__init__(message)\n",
    "        self.message = message\n",
    "\n",
    "# Define a function that may raise the custom exception\n",
    "def process_data(data):\n",
    "    if not isinstance(data, int):\n",
    "        raise CustomException(\"Invalid data type. Expected integer.\")\n",
    "\n",
    "# Example usage of the process_data function and custom exception handling\n",
    "try:\n",
    "    data = \"123\"\n",
    "    process_data(data)\n",
    "except CustomException as e:\n",
    "    print(\"Custom Exception:\", e)\n"
   ]
  },
  {
   "cell_type": "code",
   "execution_count": null,
   "id": "aff724fd-a1da-4f26-91e0-e782518672e8",
   "metadata": {},
   "outputs": [],
   "source": []
  }
 ],
 "metadata": {
  "kernelspec": {
   "display_name": "Python 3 (ipykernel)",
   "language": "python",
   "name": "python3"
  },
  "language_info": {
   "codemirror_mode": {
    "name": "ipython",
    "version": 3
   },
   "file_extension": ".py",
   "mimetype": "text/x-python",
   "name": "python",
   "nbconvert_exporter": "python",
   "pygments_lexer": "ipython3",
   "version": "3.12.1"
  }
 },
 "nbformat": 4,
 "nbformat_minor": 5
}
