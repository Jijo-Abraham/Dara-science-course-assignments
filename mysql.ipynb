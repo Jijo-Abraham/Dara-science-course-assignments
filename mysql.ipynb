{
 "cells": [
  {
   "cell_type": "markdown",
   "id": "c1fb08c8-e97b-417a-84ae-f66054bd52ca",
   "metadata": {},
   "source": [
    "Q1. What is a database? Differentiate between SQL and NoSQL databases."
   ]
  },
  {
   "cell_type": "markdown",
   "id": "aa0a8412-d2c8-4e31-83af-3badc5827480",
   "metadata": {},
   "source": [
    "Database is a structured collection of data organized in a way that allows efficient retrieval, update, and management of information. It's a digital repository for storing and organizing data.\n",
    "\n",
    "SQL (Structured Query Language) databases are relational, using tables with rows and columns. They excel at complex queries and maintaining data integrity.\n",
    "\n",
    "NoSQL (Not Only SQL) databases are non-relational, offering more flexibility for handling diverse data structures. They are often used for big data applications and real-time processing."
   ]
  },
  {
   "cell_type": "markdown",
   "id": "8f394a6a-9bf8-4f41-be62-3366a0e0178b",
   "metadata": {},
   "source": [
    "Q2. What is DDL? Explain why CREATE, DROP, ALTER, and TRUNCATE are used with an example."
   ]
  },
  {
   "cell_type": "markdown",
   "id": "dd8e17cd-a8f5-4182-88ae-0779ca352b27",
   "metadata": {},
   "source": [
    "DDL (Data Definition Language) is a subset of SQL used to define the structure of a database. It includes commands to create, modify, and delete database objects like tables, indexes, and views.   \n",
    "\n",
    "CREATE: Used to create new database objects.\n",
    "Example: CREATE TABLE Customers (CustomerID int PRIMARY KEY, CustomerName varchar(255))\n",
    "DROP: Used to delete existing database objects.\n",
    "Example: DROP TABLE Customers\n",
    "ALTER: Used to modify the structure of existing database objects.\n",
    "Example: ALTER TABLE Customers ADD Email varchar(255)\n",
    "TRUNCATE: Used to remove all data from a table but keeps the table structure.\n",
    "Example: TRUNCATE TABLE Customers"
   ]
  },
  {
   "cell_type": "markdown",
   "id": "6081a00b-2263-4c74-8506-8ae49615a3cb",
   "metadata": {},
   "source": [
    "Q3. What is DML? Explain INSERT, UPDATE, and DELETE with an example."
   ]
  },
  {
   "cell_type": "markdown",
   "id": "167e6672-046d-45a6-be01-a05f9249ac5d",
   "metadata": {},
   "source": [
    "DML (Data Manipulation Language) is a subset of SQL used to manipulate data within database tables.\n",
    "\n",
    "INSERT: Used to add new records to a table.\n",
    "Example: INSERT INTO Customers (CustomerID, CustomerName) VALUES (1, 'John Doe')\n",
    "UPDATE: Used to modify existing records in a table.\n",
    "Example: UPDATE Customers SET CustomerName = 'Jane Doe' WHERE CustomerID = 1\n",
    "DELETE: Used to remove records from a table.\n",
    "Example: DELETE FROM Customers WHERE CustomerID = 1"
   ]
  },
  {
   "cell_type": "markdown",
   "id": "c128ab83-65a5-4cd5-894f-2e9b06ff402f",
   "metadata": {},
   "source": [
    "Q4. What is DQL? Explain SELECT with an example."
   ]
  },
  {
   "cell_type": "markdown",
   "id": "9a77a333-9b22-40e4-a6d0-b96a8980f0aa",
   "metadata": {},
   "source": [
    "DQL (Data Query Language) is a subset of SQL used to retrieve data from a database.\n",
    "\n",
    "SELECT: Used to extract data from a database and display it in a result set.\n",
    "Example: SELECT * FROM Customers"
   ]
  },
  {
   "cell_type": "markdown",
   "id": "e1cf67f2-9bf9-4588-a14a-82635d1301e1",
   "metadata": {},
   "source": [
    "Q5. Explain Primary Key and Foreign Key."
   ]
  },
  {
   "cell_type": "markdown",
   "id": "eb9d760b-9ed1-49f1-8dea-03faa384ea54",
   "metadata": {},
   "source": [
    "Primary Key: A unique identifier for each record in a table. It cannot contain null values.\n",
    "Example: CustomerID in the Customers table.\n",
    "Foreign Key: A column in one table that references the primary key in another table. It establishes a link between tables.\n",
    "Example: OrderID in an Orders table referencing CustomerID in the Customers table."
   ]
  },
  {
   "cell_type": "markdown",
   "id": "f6d15181-02ab-4608-8a9e-4f3ffe802c20",
   "metadata": {},
   "source": [
    "Q6. Write a python code to connect MySQL to python. Explain the cursor() and execute() method."
   ]
  },
  {
   "cell_type": "code",
   "execution_count": null,
   "id": "8862345e-523e-4c08-8b47-22e72f49dd6b",
   "metadata": {},
   "outputs": [],
   "source": [
    "import mysql.connector\n",
    "\n",
    "mydb = mysql.connector.connect(\n",
    "  host=\"your_host\",\n",
    "  user=\"your_user\",\n",
    "  password=\"your_password\",\n",
    "  database=\"your_database\"\n",
    ")\n",
    "\n",
    "mycursor = mydb.cursor()\n",
    "\n",
    "mycursor.execute(\"SELECT * FROM Customers\")\n",
    "\n",
    "myresult = mycursor.fetchall()\n",
    "\n",
    "for x in myresult:\n",
    "  print(x)\n"
   ]
  },
  {
   "cell_type": "markdown",
   "id": "2a7cd301-9164-47ac-a5a6-e07470a5e9d4",
   "metadata": {},
   "source": [
    "Q7. Give the order of execution of SQL clauses in an SQL query."
   ]
  },
  {
   "cell_type": "code",
   "execution_count": null,
   "id": "1c768de8-44a2-46ab-a878-1398e01ad426",
   "metadata": {},
   "outputs": [],
   "source": [
    "The typical order of execution for SQL clauses is:\n",
    "\n",
    "FROM: Specifies the table(s) to retrieve data from.\n",
    "WHERE: Filters rows based on specified conditions.\n",
    "GROUP BY: Groups rows based on specified columns.\n",
    "HAVING: Filters groups based on specified conditions.\n",
    "SELECT: Specifies the columns to be returned.\n",
    "ORDER BY: Sorts the result set."
   ]
  }
 ],
 "metadata": {
  "kernelspec": {
   "display_name": "Python 3 (ipykernel)",
   "language": "python",
   "name": "python3"
  },
  "language_info": {
   "codemirror_mode": {
    "name": "ipython",
    "version": 3
   },
   "file_extension": ".py",
   "mimetype": "text/x-python",
   "name": "python",
   "nbconvert_exporter": "python",
   "pygments_lexer": "ipython3",
   "version": "3.12.1"
  }
 },
 "nbformat": 4,
 "nbformat_minor": 5
}
