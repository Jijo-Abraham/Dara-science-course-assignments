{
 "cells": [
  {
   "cell_type": "markdown",
   "id": "87f17959-0e69-4120-b271-dba4b4f6558a",
   "metadata": {},
   "source": [
    "Q1. What is MongoDB? Explain non-relational databases in short. In which scenarios it is preferred to use MongoDB over SQL databases?"
   ]
  },
  {
   "cell_type": "markdown",
   "id": "b76de604-c9f7-4fab-ab1c-015a974e4f0b",
   "metadata": {},
   "source": [
    "MongoDB is a popular NoSQL (Not Only SQL) database that uses a document-oriented data model. Unlike relational databases, MongoDB stores data in flexible, JSON-like documents, allowing for more dynamic schema and efficient handling of unstructured or semi-structured data.\n",
    "\n",
    "Non-relational databases (NoSQL) are designed to handle large volumes of unstructured or semi-structured data that don't fit well into traditional relational tables. They prioritize scalability, performance, and flexibility over strict data consistency.\n",
    "\n",
    "MongoDB is preferred over SQL databases in the following scenarios:\n",
    "\n",
    "Handling large volumes of unstructured data: MongoDB excels at storing and querying vast amounts of data without predefined schemas.\n",
    "High performance and scalability: Its distributed architecture allows for horizontal scaling to handle increasing data loads.\n",
    "Rapid development: The flexible schema and easy integration with modern applications accelerate development.\n",
    "Real-time applications: MongoDB's ability to handle high write throughput and low latency makes it suitable for real-time applications.\n",
    "Complex data structures: MongoDB can efficiently store and query data with nested structures and embedded documents."
   ]
  },
  {
   "cell_type": "markdown",
   "id": "635d7a77-a867-4778-9e46-708d1ccffecd",
   "metadata": {},
   "source": [
    "Q2. State and Explain the features of MongoDB.\n",
    "Document-oriented: Stores data in flexible, JSON-like documents.\n",
    "Schema-less: Allows for dynamic schema changes without affecting existing data.\n",
    "High performance: Offers fast read and write operations.\n",
    "Scalability: Easily scales horizontally to handle increasing data volumes.\n",
    "Indexing: Supports various indexing techniques for efficient query performance.\n",
    "Replication: Provides data redundancy and high availability.\n",
    "Sharding: Distributes data across multiple servers for improved scalability.\n",
    "Aggregation framework: Enables complex data analysis and aggregation operations."
   ]
  },
  {
   "cell_type": "markdown",
   "id": "d58ea785-be07-408c-94c0-f9bff591085a",
   "metadata": {},
   "source": [
    "Q3. Write a code to connect MongoDB to Python. Also, create a database and a collection in MongoDB."
   ]
  },
  {
   "cell_type": "code",
   "execution_count": null,
   "id": "940d97c0-3dc1-40fc-a8aa-08cfe2cbc564",
   "metadata": {},
   "outputs": [],
   "source": [
    "import pymongo\n",
    "\n",
    "# Connect to MongoDB\n",
    "client = pymongo.MongoClient(\"mongodb://localhost:27017/\")\n",
    "\n",
    "# Create a database\n",
    "db = client[\"mydatabase\"]\n",
    "\n",
    "# Create a collection\n",
    "collection = db[\"customers\"]\n"
   ]
  },
  {
   "cell_type": "markdown",
   "id": "9fda929d-ed4f-4a50-9fd5-8b692c24168f",
   "metadata": {},
   "source": [
    "Q4. Using the database and the collection created in question number 3, write a code to insert one record, and insert many records. Use the find() and find_one() methods to print the inserted record."
   ]
  },
  {
   "cell_type": "code",
   "execution_count": null,
   "id": "6bb0bef7-5330-46cc-8d54-cba588849c2f",
   "metadata": {},
   "outputs": [],
   "source": [
    "import pymongo\n",
    "\n",
    "# Connect to MongoDB\n",
    "client = pymongo.MongoClient(\"mongodb://localhost:27017/\")\n",
    "\n",
    "# Create a database\n",
    "db = client[\"mydatabase\"]\n",
    "\n",
    "# Create a collection\n",
    "collection = db[\"customers\"]\n",
    "\n",
    "# Insert one record\n",
    "customer1 = {\"name\": \"John Doe\", \"age\": 30, \"city\": \"New York\"}\n",
    "result = collection.insert_one(customer1)\n",
    "print(result.inserted_id)\n",
    "\n",
    "# Insert many records\n",
    "customers = [\n",
    "    {\"name\": \"Jane Smith\", \"age\": 25, \"city\": \"Los Angeles\"},\n",
    "    {\"name\": \"Bob Johnson\", \"age\": 35, \"city\": \"Chicago\"}\n",
    "]\n",
    "result = collection.insert_many(customers)\n",
    "print(result.inserted_ids)\n",
    "\n",
    "# Find one record\n",
    "found_customer = collection.find_one({\"name\": \"John Doe\"})\n",
    "print(found_customer)\n",
    "\n",
    "# Find all records\n",
    "all_customers = collection.find()\n",
    "for customer in all_customers:\n",
    "    print(customer)\n"
   ]
  },
  {
   "cell_type": "markdown",
   "id": "e4f0ec88-a739-421e-a5da-dd90d27f9068",
   "metadata": {},
   "source": [
    "Q5. Explain how you can use the find() method to query the MongoDB database. Write a simple code to demonstrate this.\n",
    "The find() method is used to query documents in a MongoDB collection. It returns a cursor object, which can be iterated to access the results. You can specify query filters using a dictionary."
   ]
  },
  {
   "cell_type": "code",
   "execution_count": null,
   "id": "6e6c3fd6-4766-4de4-99e5-2cf03b4cacb3",
   "metadata": {},
   "outputs": [],
   "source": [
    "import pymongo\n",
    "\n",
    "# Connect to MongoDB (assuming database and collection are already created)\n",
    "\n",
    "# Find all customers with age greater than 30\n",
    "results = collection.find({\"age\": {\"$gt\": 30}})\n",
    "for customer in results:\n",
    "    print(customer)\n"
   ]
  },
  {
   "cell_type": "markdown",
   "id": "e2ca47f1-e366-42be-9111-bbb5dbe15037",
   "metadata": {},
   "source": [
    "Q6. Explain the sort() method. Give an example to demonstrate sorting in MongoDB.\n",
    "The sort() method is used to sort the results of a query. It takes a dictionary specifying the fields to sort by and the sort order (ascending or descending)."
   ]
  },
  {
   "cell_type": "code",
   "execution_count": null,
   "id": "f05f0de3-8d30-480f-8d13-754c8ed1c01c",
   "metadata": {},
   "outputs": [],
   "source": [
    "import pymongo\n",
    "\n",
    "# Connect to MongoDB (assuming database and collection are already created)\n",
    "\n",
    "# Sort customers by age in descending order\n",
    "results = collection.find().sort(\"age\", -1)\n",
    "for customer in results:\n",
    "    print(customer)\n"
   ]
  },
  {
   "cell_type": "markdown",
   "id": "fe139c3c-5d76-4b04-8661-c1996e7431c8",
   "metadata": {},
   "source": [
    "Q7. Explain why delete_one(), delete_many(), and drop() is used.\n",
    "delete_one(): Deletes a single document that matches the specified filter.\n",
    "delete_many(): Deletes multiple documents that match the specified filter.\n",
    "drop(): Deletes an entire collection."
   ]
  },
  {
   "cell_type": "code",
   "execution_count": null,
   "id": "ae736a0b-ef77-41af-8dcf-239625162df8",
   "metadata": {},
   "outputs": [],
   "source": []
  },
  {
   "cell_type": "code",
   "execution_count": null,
   "id": "7b4657af-28ad-4689-bcea-812dcfe3a534",
   "metadata": {},
   "outputs": [],
   "source": []
  },
  {
   "cell_type": "code",
   "execution_count": null,
   "id": "78f60706-67a5-4038-81cd-c96d660e3bc8",
   "metadata": {},
   "outputs": [],
   "source": []
  },
  {
   "cell_type": "code",
   "execution_count": null,
   "id": "e02cb1c2-ad25-4c13-af33-71b9ae9c13fd",
   "metadata": {},
   "outputs": [],
   "source": []
  },
  {
   "cell_type": "code",
   "execution_count": null,
   "id": "bd341f02-6953-4dea-b8b4-1993021a3725",
   "metadata": {},
   "outputs": [],
   "source": []
  }
 ],
 "metadata": {
  "kernelspec": {
   "display_name": "Python 3 (ipykernel)",
   "language": "python",
   "name": "python3"
  },
  "language_info": {
   "codemirror_mode": {
    "name": "ipython",
    "version": 3
   },
   "file_extension": ".py",
   "mimetype": "text/x-python",
   "name": "python",
   "nbconvert_exporter": "python",
   "pygments_lexer": "ipython3",
   "version": "3.12.1"
  }
 },
 "nbformat": 4,
 "nbformat_minor": 5
}
