{
 "cells": [
  {
   "cell_type": "code",
   "execution_count": null,
   "id": "a5cb6903-43da-4527-9c21-365f6652ea10",
   "metadata": {},
   "outputs": [],
   "source": [
    "\"\"\" Q1. Write a Python program that defines a function called \"add_numbers\" that takes two arguments (i.e.,\n",
    "numbers) and returns their sum. Within the function, add the two numbers together and return the result\n",
    "using the return statement. Call the function with the values 5 and 6, and print out the returned result.\n",
    "This will result in the addition of 5 and 6, with the output of the program being the sum of these two\n",
    "numbers.\"\"\""
   ]
  },
  {
   "cell_type": "code",
   "execution_count": 1,
   "id": "b89d696d-bb08-44ff-8ea7-e9c6f5db925e",
   "metadata": {},
   "outputs": [
    {
     "name": "stdout",
     "output_type": "stream",
     "text": [
      "The sum is 11\n"
     ]
    }
   ],
   "source": [
    "def add_numbers(a,b):\n",
    "    c = a+b\n",
    "    return c\n",
    "\n",
    "sum = add_numbers(5,6)\n",
    "print(\"The sum is\",sum)\n",
    "    "
   ]
  },
  {
   "cell_type": "code",
   "execution_count": null,
   "id": "814632ba-d806-46cd-9e82-429776177779",
   "metadata": {},
   "outputs": [],
   "source": [
    "\"\"\"\n",
    "Q2. Write a Python program that calculates the square root of a given number using a built-in function.\n",
    "Specifically, the program should take an integer or float input from the user, calculate its square root\n",
    "using the 'sqrt()' function from the 'math' module, and print out the result to the user. As an example,\n",
    "calculate the square root of the number 625 using this program, which should output the value of 25.\n",
    "\"\"\""
   ]
  },
  {
   "cell_type": "code",
   "execution_count": 24,
   "id": "19beeeb2-718b-47d3-bb5d-1b4a994c94ad",
   "metadata": {},
   "outputs": [
    {
     "name": "stdin",
     "output_type": "stream",
     "text": [
      "Enter the value 625\n"
     ]
    },
    {
     "name": "stdout",
     "output_type": "stream",
     "text": [
      "The result is 25.0\n"
     ]
    }
   ],
   "source": [
    "import math\n",
    "a = int(input(\"Enter the value\"))\n",
    "result = math.sqrt(a)\n",
    "print(\"The result is\",result)"
   ]
  },
  {
   "cell_type": "code",
   "execution_count": null,
   "id": "030d482b-9d5a-4a11-8b88-734021c8d9ce",
   "metadata": {},
   "outputs": [],
   "source": [
    "\"\"\"\n",
    "Q3.Write a program that prints all prime numbers between 0 to 50.\n",
    "\"\"\""
   ]
  },
  {
   "cell_type": "code",
   "execution_count": 58,
   "id": "c5ad3c43-4b95-4d7b-93e9-00ac71edd415",
   "metadata": {},
   "outputs": [],
   "source": [
    "def prime_checker(num):\n",
    "    if num<=1:\n",
    "        return False\n",
    "    for i in range(2,num):\n",
    "        if num%i==0:\n",
    "            return False\n",
    "    else:\n",
    "        return True\n",
    "def number_generator():\n",
    "    for i in range(0,51):\n",
    "        result=prime_checker(i)\n",
    "        if result==True:\n",
    "            print(i)"
   ]
  },
  {
   "cell_type": "code",
   "execution_count": 59,
   "id": "2a12f9fb-da9f-420a-91d1-0d38afd5b50d",
   "metadata": {},
   "outputs": [
    {
     "name": "stdout",
     "output_type": "stream",
     "text": [
      "2\n",
      "3\n",
      "5\n",
      "7\n",
      "11\n",
      "13\n",
      "17\n",
      "19\n",
      "23\n",
      "29\n",
      "31\n",
      "37\n",
      "41\n",
      "43\n",
      "47\n"
     ]
    }
   ],
   "source": [
    "number_generator()"
   ]
  },
  {
   "cell_type": "code",
   "execution_count": null,
   "id": "6297ec99-1a3c-4271-b125-cb49897fa9c7",
   "metadata": {},
   "outputs": [],
   "source": [
    "\"\"\" \n",
    "Q4.How can we swap the values of three variables (let's say a, b, and c) without using a fourth variable?\n",
    "For example, if we have a=5, b=8, and c=9, how can we obtain a=9, b=5, and c=8? The challenge is to\n",
    "perform this operation without using an additional variable to store any of the values during the\n",
    "swapping process.\n",
    "\"\"\""
   ]
  },
  {
   "cell_type": "code",
   "execution_count": 62,
   "id": "0b7ab588-923f-4eaa-b4f1-a09d2ca08c93",
   "metadata": {},
   "outputs": [],
   "source": [
    "a,b,c=5,8,9"
   ]
  },
  {
   "cell_type": "code",
   "execution_count": 93,
   "id": "cd974841-0db9-4ed6-b869-f5b2528d9f67",
   "metadata": {},
   "outputs": [],
   "source": [
    "a = 5\n",
    "b = 8\n",
    "c = 9\n"
   ]
  },
  {
   "cell_type": "code",
   "execution_count": 94,
   "id": "0d35f516-9fc2-4f74-ab20-9d654eaf416c",
   "metadata": {},
   "outputs": [],
   "source": [
    "a,b,c = c,a,b"
   ]
  },
  {
   "cell_type": "code",
   "execution_count": 95,
   "id": "1fff2903-74e3-496b-9b9c-a034b9fd1177",
   "metadata": {},
   "outputs": [
    {
     "data": {
      "text/plain": [
       "9"
      ]
     },
     "execution_count": 95,
     "metadata": {},
     "output_type": "execute_result"
    }
   ],
   "source": [
    "a"
   ]
  },
  {
   "cell_type": "code",
   "execution_count": 96,
   "id": "5d2b0670-7f37-4ef9-af80-32b1fb5daf2f",
   "metadata": {},
   "outputs": [
    {
     "data": {
      "text/plain": [
       "5"
      ]
     },
     "execution_count": 96,
     "metadata": {},
     "output_type": "execute_result"
    }
   ],
   "source": [
    "b"
   ]
  },
  {
   "cell_type": "code",
   "execution_count": 97,
   "id": "73371486-4e15-43fa-bb3b-5a22f5da9c35",
   "metadata": {},
   "outputs": [
    {
     "data": {
      "text/plain": [
       "8"
      ]
     },
     "execution_count": 97,
     "metadata": {},
     "output_type": "execute_result"
    }
   ],
   "source": [
    "c"
   ]
  },
  {
   "cell_type": "code",
   "execution_count": null,
   "id": "4f3c8270-e93b-4634-84a2-aef38e274932",
   "metadata": {},
   "outputs": [],
   "source": [
    "\"\"\"\n",
    "Q5. Can you write a program that determines the nature of a given number (in this case, 87) as being\n",
    "positive, negative, or zero? The program should be designed to take the number as input and perform the\n",
    "necessary calculations to determine if the number is positive (i.e., greater than zero), negative (i.e., less\n",
    "than zero), or zero (i.e., equal to zero). The output of the program should indicate which of these three\n",
    "categories the given number falls into.\n",
    "\"\"\""
   ]
  },
  {
   "cell_type": "code",
   "execution_count": 100,
   "id": "920b1d4a-720a-4b2a-90f6-f7dc1c007c20",
   "metadata": {},
   "outputs": [
    {
     "name": "stdin",
     "output_type": "stream",
     "text": [
      "Enter the value -2\n"
     ]
    },
    {
     "name": "stdout",
     "output_type": "stream",
     "text": [
      "Negative\n"
     ]
    }
   ],
   "source": [
    "a = int(input('Enter the value'))\n",
    "if a ==0:\n",
    "    print(\"zero\")\n",
    "elif a <0:\n",
    "    print(\"Negative\")\n",
    "else:\n",
    "    print(\"Positive\")"
   ]
  },
  {
   "cell_type": "code",
   "execution_count": null,
   "id": "91ac1c26-24a1-478a-afae-adfd88c1ea02",
   "metadata": {},
   "outputs": [],
   "source": [
    "\"\"\"\n",
    "Q6. How can you create a program that determines whether a given number (in this case, 98) is even or\n",
    "odd? The program should be designed to take the number as input and perform the necessary\n",
    "calculations to determine whether it is divisible by two. If the number is divisible by two without leaving a\n",
    "remainder, it is an even number, and if there is a remainder, it is an odd number. The output of the\n",
    "program should indicate whether the given number is even or odd.\n",
    "\"\"\""
   ]
  },
  {
   "cell_type": "code",
   "execution_count": 102,
   "id": "dcf933c1-e490-4803-a9c4-867ddce2c566",
   "metadata": {},
   "outputs": [
    {
     "name": "stdin",
     "output_type": "stream",
     "text": [
      "Enter the value 7\n"
     ]
    },
    {
     "name": "stdout",
     "output_type": "stream",
     "text": [
      "odd\n"
     ]
    }
   ],
   "source": [
    "a = int(input(\"Enter the value\"))\n",
    "if a%2==0:\n",
    "    print('even')\n",
    "else:\n",
    "    print('odd')\n"
   ]
  },
  {
   "cell_type": "code",
   "execution_count": null,
   "id": "2cffc345-eb49-4b81-b1fd-ab941a9a009c",
   "metadata": {},
   "outputs": [],
   "source": [
    "\"\"\"\n",
    "Q7.Write a program for sum of digits.the digits are 76543 and the output should be 25.\n",
    "\"\"\""
   ]
  },
  {
   "cell_type": "code",
   "execution_count": 135,
   "id": "5e566473-6944-44c8-bf52-689dc362c9d9",
   "metadata": {},
   "outputs": [],
   "source": [
    "a = str(76543)"
   ]
  },
  {
   "cell_type": "code",
   "execution_count": 136,
   "id": "278a29df-aff2-4ab7-9948-57d41e87454c",
   "metadata": {},
   "outputs": [
    {
     "name": "stdout",
     "output_type": "stream",
     "text": [
      "25\n"
     ]
    }
   ],
   "source": [
    "sum = 0\n",
    "for i in a:\n",
    "    sum += int(i)\n",
    "print(sum)"
   ]
  },
  {
   "cell_type": "code",
   "execution_count": null,
   "id": "de01017d-18f9-4fa1-9e8f-ee077bbd7ef9",
   "metadata": {},
   "outputs": [],
   "source": [
    "\"\"\"\n",
    "Q8.Write a program for reversing the given number 5436 and the output should be 6345.\n",
    "\"\"\""
   ]
  },
  {
   "cell_type": "code",
   "execution_count": 11,
   "id": "eded05c7-5990-41b8-9519-f5da83d7aaf0",
   "metadata": {},
   "outputs": [
    {
     "name": "stdout",
     "output_type": "stream",
     "text": [
      "6345\n"
     ]
    }
   ],
   "source": [
    "number = 5436\n",
    "reversed_number = 0\n",
    "while number > 0:\n",
    "    last_digit = number % 10\n",
    "    reversed_number = (reversed_number * 10) + last_digit\n",
    "    number = int(number/10)\n",
    "print(reversed_number)"
   ]
  },
  {
   "cell_type": "markdown",
   "id": "6171bf73-ae34-4f7b-b70c-ea52ece35a73",
   "metadata": {},
   "source": [
    "\"\"\"\n",
    "Q9.Write a program to check if a given number 371 is an Armstrong number?\n",
    "\"\"\""
   ]
  },
  {
   "cell_type": "code",
   "execution_count": 155,
   "id": "360a9835-7429-4f88-bd52-34e2ff52142c",
   "metadata": {},
   "outputs": [],
   "source": [
    "a = str(371)\n",
    "c = int(a)\n",
    "b=len(a)"
   ]
  },
  {
   "cell_type": "code",
   "execution_count": 156,
   "id": "a7b493eb-57d3-4d91-8bcc-1348473189af",
   "metadata": {},
   "outputs": [
    {
     "name": "stdout",
     "output_type": "stream",
     "text": [
      "Armstrong number\n"
     ]
    }
   ],
   "source": [
    "import math\n",
    "sum = 0\n",
    "for i in a:\n",
    "    sum += math.pow(int(i),b)\n",
    "if sum == c:\n",
    "    print(\"Armstrong number\")\n",
    "else:\n",
    "    print(\"Not an armstrong number\")"
   ]
  },
  {
   "cell_type": "code",
   "execution_count": null,
   "id": "f4d8b27a-c25b-4f38-a4a1-7a0470fc67dc",
   "metadata": {},
   "outputs": [],
   "source": [
    "\"\"\"\n",
    "Q10.Write a program the given year is 1996, a leap year.\n",
    "\"\"\""
   ]
  },
  {
   "cell_type": "code",
   "execution_count": 199,
   "id": "6e106a20-67d2-4241-a2c2-11c38a1e2bca",
   "metadata": {},
   "outputs": [
    {
     "name": "stdin",
     "output_type": "stream",
     "text": [
      "Enter the year 1700\n"
     ]
    },
    {
     "name": "stdout",
     "output_type": "stream",
     "text": [
      "Not a Leap Year\n"
     ]
    }
   ],
   "source": [
    "year = int(input(\"Enter the year\"))\n",
    "\n",
    "if(year % 4 == 0 and (year % 100 != 0 or year % 400 == 0)):\n",
    "    print(\"Leap Year\")\n",
    "else: \n",
    "    print(\"Not a Leap Year\")\n"
   ]
  }
 ],
 "metadata": {
  "kernelspec": {
   "display_name": "Python 3 (ipykernel)",
   "language": "python",
   "name": "python3"
  },
  "language_info": {
   "codemirror_mode": {
    "name": "ipython",
    "version": 3
   },
   "file_extension": ".py",
   "mimetype": "text/x-python",
   "name": "python",
   "nbconvert_exporter": "python",
   "pygments_lexer": "ipython3",
   "version": "3.12.5"
  }
 },
 "nbformat": 4,
 "nbformat_minor": 5
}
