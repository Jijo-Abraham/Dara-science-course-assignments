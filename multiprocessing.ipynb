{
 "cells": [
  {
   "cell_type": "markdown",
   "id": "a0ec1228-8d53-4a37-8433-61b4d1da8225",
   "metadata": {},
   "source": [
    "Q1. What is multiprocessing in python? Why is it useful?"
   ]
  },
  {
   "cell_type": "markdown",
   "id": "d9c6c18a-7482-4cf6-8afb-4a53cea91462",
   "metadata": {},
   "source": [
    "Multiprocessing in Python refers to the ability to execute multiple processes concurrently, by utilizing multiple CPU cores. The multiprocessing module in Python supports the creation, management, and synchronization of processes.\n",
    "\n",
    "Why is it useful?\n",
    "\n",
    "Parallel Execution: Allows for the concurrent execution of tasks, which can significantly speed up computations.\n",
    "CPU-Bound Tasks: Ideal for tasks that require a lot of CPU resources, as it can leverage multiple CPU cores.\n",
    "Isolation: Each process has its own memory space, which helps prevent issues like data corruption that can occur in multithreading due to shared memory.\n",
    "Improved Performance: Especially for CPU-bound operations where the Global Interpreter Lock (GIL) in Python would otherwise be a bottleneck in a multithreaded context."
   ]
  },
  {
   "cell_type": "markdown",
   "id": "dfbf1d23-d9e2-4777-8e59-65167948b963",
   "metadata": {},
   "source": [
    "Q2. What are the differences between multiprocessing and multithreading?"
   ]
  },
  {
   "cell_type": "markdown",
   "id": "791227c4-43ce-4544-b3a5-3e0a64217022",
   "metadata": {},
   "source": [
    "GIL: Multithreading in Python is limited by the Global Interpreter Lock (GIL), which prevents multiple threads from executing Python bytecodes at once. Multiprocessing does not have this limitation as each process has its own Python interpreter and memory space.\n",
    "Memory: Threads share the same memory space, while processes have separate memory spaces.\n",
    "Overhead: Creating a new process has more overhead than creating a new thread due to the need to allocate separate memory space.\n",
    "Use Case: Multithreading is generally more efficient for I/O-bound tasks, whereas multiprocessing is more suitable for CPU-bound tasks."
   ]
  },
  {
   "cell_type": "markdown",
   "id": "1977e595-2ec6-48eb-a670-c78d616f1348",
   "metadata": {},
   "source": [
    "Q3. Write a python code to create a process using the multiprocessing module."
   ]
  },
  {
   "cell_type": "code",
   "execution_count": 1,
   "id": "39138a92-6b8c-4d4d-9df7-3ea3a4d05f82",
   "metadata": {},
   "outputs": [],
   "source": [
    "import multiprocessing\n",
    "\n",
    "def worker(num):\n",
    "    \"\"\"\n",
    "    Worker function to be executed by the process.\n",
    "    \"\"\"\n",
    "    print(f\"Process {num}: Starting\")\n",
    "    # Simulate some work\n",
    "    import time\n",
    "    time.sleep(2)\n",
    "    print(f\"Process {num}: Finished\")\n",
    "\n",
    "if __name__ == \"__main__\":\n",
    "    # Create processes\n",
    "    processes = []\n",
    "    for i in range(4):\n",
    "        p = multiprocessing.Process(target=worker, args=(i,))\n",
    "        processes.append(p)\n",
    "        p.start()\n",
    "\n",
    "    # Wait for all processes to finish\n",
    "    for p in processes:\n",
    "        p.join()\n"
   ]
  },
  {
   "cell_type": "markdown",
   "id": "87ac42bb-492b-49b6-bfd4-0572eab1aaec",
   "metadata": {},
   "source": [
    "Q4. What is a multiprocessing pool in python? Why is it used?"
   ]
  },
  {
   "cell_type": "markdown",
   "id": "c06566b5-5c87-4f4a-97f1-e3b840e4709f",
   "metadata": {},
   "source": [
    "A multiprocessing pool in Python is a pool of worker processes that can be used to execute tasks concurrently. The multiprocessing.Pool class allows for parallel execution of a function across multiple input values, distributing the input data across processes.\n",
    "\n",
    "Why is it used?\n",
    "\n",
    "Efficient Task Distribution: Distributes tasks among multiple processes efficiently.\n",
    "Simplifies Concurrency: Provides a simple way to parallelize execution without managing the processes explicitly.\n",
    "Resource Management: Manages worker processes, reducing overhead and making it easier to control the number of processes."
   ]
  },
  {
   "cell_type": "markdown",
   "id": "c5bea2c0-681a-44ca-8374-23421985397d",
   "metadata": {},
   "source": [
    "Q5. How can we create a pool of worker processes in python using the multiprocessing module?"
   ]
  },
  {
   "cell_type": "code",
   "execution_count": null,
   "id": "73bf2ea6-81ba-4e20-90c2-27fce456f31e",
   "metadata": {},
   "outputs": [],
   "source": [
    "import multiprocessing\n",
    "\n",
    "def worker(num):\n",
    "    return num * num\n",
    "\n",
    "if __name__ == \"__main__\":\n",
    "    with multiprocessing.Pool(processes=4) as pool:\n",
    "        results = pool.map(worker, range(10))\n",
    "        print(results)\n"
   ]
  },
  {
   "cell_type": "markdown",
   "id": "50763008-323c-4169-8a8f-cd2c5444bc62",
   "metadata": {},
   "source": [
    "Q6. Write a python program to create 4 processes, each process should print a different number using the\n",
    "multiprocessing module in python."
   ]
  },
  {
   "cell_type": "code",
   "execution_count": null,
   "id": "1f34af5d-308e-48e1-b083-8712bbb62d24",
   "metadata": {},
   "outputs": [],
   "source": [
    "import multiprocessing\n",
    "\n",
    "def print_number(number):\n",
    "    print(f\"Process {number}: Printing number {number}\")\n",
    "\n",
    "if __name__ == \"__main__\":\n",
    "    processes = []\n",
    "    for i in range(4):\n",
    "        process = multiprocessing.Process(target=print_number, args=(i+1,))\n",
    "        processes.append(process)\n",
    "        process.start()\n",
    "\n",
    "    for process in processes:\n",
    "        process.join()\n"
   ]
  },
  {
   "cell_type": "code",
   "execution_count": null,
   "id": "230d78d8-c435-4ded-bd29-9282a9d473c3",
   "metadata": {},
   "outputs": [],
   "source": []
  }
 ],
 "metadata": {
  "kernelspec": {
   "display_name": "Python 3 (ipykernel)",
   "language": "python",
   "name": "python3"
  },
  "language_info": {
   "codemirror_mode": {
    "name": "ipython",
    "version": 3
   },
   "file_extension": ".py",
   "mimetype": "text/x-python",
   "name": "python",
   "nbconvert_exporter": "python",
   "pygments_lexer": "ipython3",
   "version": "3.12.1"
  }
 },
 "nbformat": 4,
 "nbformat_minor": 5
}
