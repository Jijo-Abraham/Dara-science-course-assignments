{
 "cells": [
  {
   "cell_type": "code",
   "execution_count": null,
   "id": "5e03a1d6-f786-4beb-93c0-50cdb7bc8022",
   "metadata": {},
   "outputs": [],
   "source": [
    "\"\"\"\n",
    "Q1. Explain Class and Object with respect to Object-Oriented Programming. Give a suitable example.\n",
    "\"\"\"\n",
    "\"\"\"\n",
    "In Object-Oriented Programming (OOP), classes are blueprints or templates that define the characteristics and behaviors of objects. \n",
    "An object is an instance of a class, created from the blueprint defined by the class.\n",
    "\"\"\""
   ]
  },
  {
   "cell_type": "code",
   "execution_count": 4,
   "id": "b404251a-5ef5-4ed6-a133-54fb7f553d48",
   "metadata": {},
   "outputs": [
    {
     "name": "stdout",
     "output_type": "stream",
     "text": [
      "scoby is barking!\n"
     ]
    }
   ],
   "source": [
    "class Dog:\n",
    "    def __init__(self, name, breed):\n",
    "        self.name = name\n",
    "        self.breed = breed\n",
    "\n",
    "    def bark(self):\n",
    "        print(f\"{self.name} is barking!\")\n",
    "\n",
    "d = Dog('scoby','cc')\n",
    "d.bark()"
   ]
  },
  {
   "cell_type": "code",
   "execution_count": null,
   "id": "aef5eee9-f04f-41ac-bd44-a914c007485c",
   "metadata": {},
   "outputs": [],
   "source": [
    "\"\"\"\n",
    "Q2. Name the four pillars of OOPs.\n",
    "\"\"\""
   ]
  },
  {
   "cell_type": "code",
   "execution_count": null,
   "id": "8d29e79b-e80e-42f8-bebf-776e8c35c0b1",
   "metadata": {},
   "outputs": [],
   "source": [
    "\"\"\"\n",
    "The four pillars of Object-Oriented Programming (OOP) are:\n",
    "\n",
    "1.Encapsulation: Bundling data and methods together within a class, providing data hiding and access control.\n",
    "2.Inheritance: Creating new classes based on existing ones, allowing for code reuse and hierarchical relationships.\n",
    "3.Polymorphism: The ability of objects of different classes to be treated as if they were of the same type, enabling flexible code design and dynamic behavior.\n",
    "4.Abstraction: Focusing on the essential features of an object while hiding unnecessary details, promoting code modularity and maintainability.\n",
    "\n",
    "\"\"\""
   ]
  },
  {
   "cell_type": "code",
   "execution_count": null,
   "id": "64497ab4-e6d0-4be8-aecf-4b04d3d34f76",
   "metadata": {},
   "outputs": [],
   "source": [
    "\"\"\"\n",
    "Q3. Explain why the __init__() function is used. Give a suitable example.\n",
    "\"\"\"\n",
    "\"\"\"\n",
    "The __init__() function in Python is a special method that is automatically called when an object of a class is created.\n",
    "It's often used to initialize the attributes of the object with default or user-provided values.\n",
    "\"\"\""
   ]
  },
  {
   "cell_type": "code",
   "execution_count": 6,
   "id": "58fe5e2e-9960-41fb-8a13-d9350c4973bf",
   "metadata": {},
   "outputs": [
    {
     "name": "stdout",
     "output_type": "stream",
     "text": [
      "Alice\n",
      "30\n",
      "Hello, my name is Alice and I am 30 years old.\n"
     ]
    }
   ],
   "source": [
    "class Person:\n",
    "    def __init__(self, name, age):\n",
    "        self.name = name\n",
    "        self.age = age\n",
    "\n",
    "    def greet(self):\n",
    "        print(f\"Hello, my name is {self.name} and I am {self.age} years old.\")\n",
    "\n",
    "person1 = Person(\"Alice\", 30)\n",
    "\n",
    "print(person1.name) \n",
    "print(person1.age)  \n",
    "person1.greet()  "
   ]
  },
  {
   "cell_type": "code",
   "execution_count": null,
   "id": "72c280a4-0a12-4124-a2eb-fe201fd90ae0",
   "metadata": {},
   "outputs": [],
   "source": [
    "\"\"\"\n",
    "Q4. Why self is used in OOPs?\n",
    "\"\"\""
   ]
  },
  {
   "cell_type": "code",
   "execution_count": null,
   "id": "21394ac3-1c49-434f-85b8-0911b414a49c",
   "metadata": {},
   "outputs": [],
   "source": [
    "\"\"\"\n",
    "self in Python OOP is a reference to the instance of the class itself. \n",
    "It's used within class methods to access the object's attributes and methods.\n",
    "\"\"\""
   ]
  },
  {
   "cell_type": "code",
   "execution_count": 8,
   "id": "e8510b9d-d013-4cb7-8263-e01d8216ed5f",
   "metadata": {},
   "outputs": [
    {
     "name": "stdout",
     "output_type": "stream",
     "text": [
      "Fido is barking!\n"
     ]
    }
   ],
   "source": [
    "class Dog:\n",
    "    def __init__(self, name, breed):\n",
    "        self.name = name\n",
    "        self.breed = breed\n",
    "\n",
    "    def bark(self):\n",
    "        print(f\"{self.name} is barking!\")\n",
    "\n",
    "fido = Dog(\"Fido\", \"Golden Retriever\")\n",
    "\n",
    "fido.bark()  "
   ]
  },
  {
   "cell_type": "code",
   "execution_count": null,
   "id": "7481dcde-a520-430f-9c3d-e01bf611d9c3",
   "metadata": {},
   "outputs": [],
   "source": [
    "\"\"\"\n",
    "Q5. What is inheritance? Give an example for each type of inheritance.\n",
    "\"\"\"\n",
    "\"\"\"\n",
    "Inheritance in Object-Oriented Programming (OOP) is a mechanism \n",
    "that allows a class to inherit properties and behaviors from another class.\n",
    "\"\"\""
   ]
  },
  {
   "cell_type": "code",
   "execution_count": 9,
   "id": "1a7cb74f-cfce-4263-815e-c3a443b4e6e6",
   "metadata": {},
   "outputs": [
    {
     "name": "stdout",
     "output_type": "stream",
     "text": [
      "Talking.\n",
      "Giving birth.\n"
     ]
    }
   ],
   "source": [
    "\"\"\"\n",
    "The first type of Inheritance is :\n",
    "1.Multilevel Inheritance\n",
    "\"\"\"\n",
    "class Animal:\n",
    "    def __init__(self, name):\n",
    "        self.name = name\n",
    "\n",
    "class Mammal(Animal):\n",
    "    def give_birth(self):\n",
    "        print(\"Giving birth.\")\n",
    "\n",
    "class Human(Mammal):\n",
    "    def talk(self):\n",
    "        print(\"Talking.\")\n",
    "\n",
    "human = Human(\"Alice\")\n",
    "\n",
    "human.talk()\n",
    "human.give_birth() "
   ]
  },
  {
   "cell_type": "code",
   "execution_count": 10,
   "id": "9a4addde-de63-43c5-909d-a140d890782e",
   "metadata": {},
   "outputs": [
    {
     "name": "stdout",
     "output_type": "stream",
     "text": [
      "Driving the car.\n",
      "Flying the airplane.\n"
     ]
    }
   ],
   "source": [
    "\"\"\"\n",
    "Another Inheritance is :\n",
    "2.Multiple Inheritance\n",
    "\"\"\"\n",
    "class Vehicle:\n",
    "    def __init__(self, color):\n",
    "        self.color = color\n",
    "\n",
    "class Car(Vehicle):\n",
    "    def drive(self):\n",
    "        print(\"Driving the car.\")\n",
    "\n",
    "class Airplane(Vehicle):\n",
    "    def fly(self):\n",
    "        print(\"Flying the airplane.\")\n",
    "\n",
    "class FlyingCar(Car, Airplane):\n",
    "    pass\n",
    "\n",
    "flying_car = FlyingCar(\"Red\")\n",
    "\n",
    "flying_car.drive()  \n",
    "flying_car.fly()  "
   ]
  },
  {
   "cell_type": "code",
   "execution_count": null,
   "id": "43d9a5b2-e309-4690-83ad-b40271455853",
   "metadata": {},
   "outputs": [],
   "source": []
  }
 ],
 "metadata": {
  "kernelspec": {
   "display_name": "Python 3 (ipykernel)",
   "language": "python",
   "name": "python3"
  },
  "language_info": {
   "codemirror_mode": {
    "name": "ipython",
    "version": 3
   },
   "file_extension": ".py",
   "mimetype": "text/x-python",
   "name": "python",
   "nbconvert_exporter": "python",
   "pygments_lexer": "ipython3",
   "version": "3.12.5"
  }
 },
 "nbformat": 4,
 "nbformat_minor": 5
}
